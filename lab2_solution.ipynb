{
  "cells": [
    {
      "cell_type": "code",
      "execution_count": null,
      "metadata": {},
      "outputs": [],
      "source": []
    },
    {
      "cell_type": "code",
      "execution_count": null,
      "metadata": {},
      "outputs": [],
      "source": []
    },
    {
      "cell_type": "markdown",
      "metadata": {
        "colab_type": "text",
        "id": "iPf_SY-XDfd2"
      },
      "source": [
        "Exerc. 1\n",
        "---\n",
        "#### Alphabet Slices\n",
        "- Store the first ten letters of the alphabet in a list.\n",
        "- Use a slice to print out the first three letters of the alphabet.\n",
        "- Use a slice to print out any three letters from the middle of your list.\n",
        "- Use a slice to print out the letters from any point in the middle of your list, to the end.\n"
      ]
    },
    {
      "cell_type": "code",
      "execution_count": null,
      "metadata": {
        "colab": {
          "base_uri": "https://localhost:8080/",
          "height": 86
        },
        "colab_type": "code",
        "id": "-MzOfdGEDfd4",
        "outputId": "ffa30423-300f-41b9-abfc-7f5cc43ae4c6"
      },
      "outputs": [
        {
          "name": "stdout",
          "output_type": "stream",
          "text": [
            "['a', 'b', 'c', 'd', 'e', 'f', 'g', 'h', 'i', 'j']\n",
            "['a', 'b', 'c']\n",
            "['e', 'f', 'g']\n",
            "['g', 'h', 'i', 'j']\n"
          ]
        }
      ],
      "source": [
        "L = list('abcdefghij')\n",
        "print(L)\n",
        "\n",
        "print(L[:3])\n",
        "print(L[4:4+3])\n",
        "print(L[6:])"
      ]
    },
    {
      "cell_type": "markdown",
      "metadata": {
        "colab_type": "text",
        "id": "-oMnsex1Dfd7"
      },
      "source": [
        "#### Multiples of Ten\n",
        "- Make a list of the first ten multiples of ten (10, 20, 30... 90, 100). Try to do it using a list comprehension. Print out your list.\n",
        "\n",
        "#### Cubes\n",
        "- We saw how to make a list of the first ten squares. Make a list of the first ten cubes (1, 8, 27... 1000) using a list comprehension, and print them out."
      ]
    },
    {
      "cell_type": "code",
      "execution_count": null,
      "metadata": {
        "colab": {
          "base_uri": "https://localhost:8080/",
          "height": 51
        },
        "colab_type": "code",
        "id": "nC5xZJs2Dfd8",
        "outputId": "de93ddf9-ca4b-4e92-8fb0-acad0a24be6f"
      },
      "outputs": [
        {
          "name": "stdout",
          "output_type": "stream",
          "text": [
            "[10, 20, 30, 40, 50, 60, 70, 80, 90, 100]\n",
            "[1, 8, 27, 64, 125, 216, 343, 512, 729, 1000]\n"
          ]
        }
      ],
      "source": [
        "L = [i*10 for i in range(1, 11)]  \n",
        "print(L)\n",
        "L = [i**3 for i in range(1, 11)]\n",
        "print(L)"
      ]
    },
    {
      "cell_type": "markdown",
      "metadata": {
        "colab_type": "text",
        "id": "aUi7ocecDfd-"
      },
      "source": [
        "Exerc. 2\n",
        "---\n",
        "#### <a name='exercise_mountain_heights'></a>Mountain Heights\n",
        "- Wikipedia has a list of the [tallest mountains in the world](http://en.wikipedia.org/wiki/List_of_mountains_by_elevation), with each mountain's elevation. Pick five mountains from this list.\n",
        "    - Create a dictionary with the mountain names as keys, and the elevations as values.\n",
        "    - Print out just the mountains' names, by looping through the keys of your dictionary.\n",
        "    - Print out just the mountains' elevations, by looping through the values of your dictionary.\n",
        "    - Print out a series of statements telling how tall each mountain is: \"Everest is 8848 meters tall.\"\n",
        "\n"
      ]
    },
    {
      "cell_type": "code",
      "execution_count": 7,
      "metadata": {
        "colab": {
          "base_uri": "https://localhost:8080/",
          "height": 257
        },
        "colab_type": "code",
        "id": "fuMdTJQwDfd_",
        "outputId": "dff25c16-7774-4565-8aa5-20277cf50128"
      },
      "outputs": [
        {
          "name": "stdout",
          "output_type": "stream",
          "text": [
            "Mount Everest\n",
            "Kangchenjunga\n",
            "Cho Oyu\n",
            "Manaslu\n",
            "--------\n",
            "8848\n",
            "8586\n",
            "8201\n",
            "8163\n",
            "--------\n",
            "Mount Everest is 8848 meters tall\n",
            "Kangchenjunga is 8586 meters tall\n",
            "Cho Oyu is 8201 meters tall\n",
            "Manaslu is 8163 meters tall\n"
          ]
        }
      ],
      "source": [
        "M = {\n",
        "    'Mount Everest':8848,\n",
        "    'Kangchenjunga':8586,\n",
        "    'Cho Oyu':8201,\n",
        "    'Manaslu':8163\n",
        "}\n",
        "for k in M.keys():\n",
        "    print(k)\n",
        "print('--------')\n",
        "for v in M.values():\n",
        "    print(v)\n",
        "print('--------')\n",
        "for k, v in M.items():\n",
        "    print('%s is %d meters tall' % (k, v))"
      ]
    },
    {
      "cell_type": "markdown",
      "metadata": {
        "colab_type": "text",
        "id": "CERRos5PDfeB"
      },
      "source": [
        "#### Mountain Heights 2\n",
        "- Revise your final output from Mountain Heights, so that the information is listed in alphabetical order by each mountain's name.\n",
        "    - That is, print out a series of statements telling how tall each mountain is: \"Everest is 8848 meters tall.\"\n",
        "    - Make sure your output is in alphabetical order."
      ]
    },
    {
      "cell_type": "code",
      "execution_count": 8,
      "metadata": {
        "colab": {
          "base_uri": "https://localhost:8080/",
          "height": 85
        },
        "colab_type": "code",
        "id": "n8b4mmL4DfeC",
        "outputId": "dd7f77d8-742b-4ace-dd47-97137b6b1913"
      },
      "outputs": [
        {
          "name": "stdout",
          "output_type": "stream",
          "text": [
            "Cho Oyu is 8201 meters tall\n",
            "Kangchenjunga is 8586 meters tall\n",
            "Manaslu is 8163 meters tall\n",
            "Mount Everest is 8848 meters tall\n"
          ]
        }
      ],
      "source": [
        "L = [k for k in M.keys()]\n",
        "L.sort()\n",
        "for k in L:\n",
        "    print('%s is %d meters tall' % (k, M[k]))"
      ]
    },
    {
      "cell_type": "markdown",
      "metadata": {
        "colab_type": "text",
        "id": "7NivJ1i4DfeE"
      },
      "source": [
        "Exerc. 3\n",
        "---\n",
        "Write a function that accepts a sentence and calculate and print the number of letters and digits in the sentence. Suppose the following string is passed to your function: \n",
        "\n",
        "hello world! 123\n",
        "\n",
        "Then, the output should be:\n",
        "\n",
        "LETTERS 10 <br>\n",
        "DIGITS 3"
      ]
    },
    {
      "cell_type": "code",
      "execution_count": null,
      "metadata": {
        "colab": {},
        "colab_type": "code",
        "id": "aiirTyRfDfeF",
        "outputId": "3a4428e9-25c7-4d56-8768-06419356c529"
      },
      "outputs": [
        {
          "name": "stdout",
          "output_type": "stream",
          "text": [
            "True\n",
            "True\n"
          ]
        }
      ],
      "source": [
        "# use isdigit() and isalpha()\n",
        "print('3'.isdigit())\n",
        "print('a'.isalpha())"
      ]
    },
    {
      "cell_type": "code",
      "execution_count": 5,
      "metadata": {
        "colab": {
          "base_uri": "https://localhost:8080/",
          "height": 51
        },
        "colab_type": "code",
        "id": "b6psI-GyDfeH",
        "outputId": "fbe7a63a-fedd-45ae-c03d-58689ab74886"
      },
      "outputs": [
        {
          "name": "stdout",
          "output_type": "stream",
          "text": [
            "LETTERS 10\n",
            "DIGITS 3\n"
          ]
        }
      ],
      "source": [
        "def func1(S):\n",
        "    d = 0\n",
        "    a = 0\n",
        "    for c in S:\n",
        "        if c.isdigit():\n",
        "            d+=1\n",
        "        elif c.isalpha():\n",
        "            a+=1\n",
        "    print('LETTERS', a)\n",
        "    print('DIGITS', d)\n",
        "    \n",
        "func1('hello world! 123')"
      ]
    },
    {
      "cell_type": "markdown",
      "metadata": {
        "colab_type": "text",
        "id": "6CKMaRcjDfeJ"
      },
      "source": [
        "Exerc. 4\n",
        "---\n",
        "Write a function that accepts a sequence of whitespace separated words as input and prints the words after removing all duplicate words and sorting them alphanumerically.\n",
        "Suppose the following is supplied to the function:\n",
        "\n",
        "hello world and practice makes perfect and hello world again\n",
        "\n",
        "Then, the output should be:\n",
        "\n",
        "again and hello makes perfect practice world\n"
      ]
    },
    {
      "cell_type": "code",
      "execution_count": 2,
      "metadata": {
        "colab": {
          "base_uri": "https://localhost:8080/",
          "height": 34
        },
        "colab_type": "code",
        "id": "P4WK4gxFDfeK",
        "outputId": "19f6731e-4c2c-4bd9-e3a4-cdef43c61b1e",
        "scrolled": true
      },
      "outputs": [
        {
          "name": "stdout",
          "output_type": "stream",
          "text": [
            "again and hello makes perfect practice world\n"
          ]
        }
      ],
      "source": [
        "# hint: a set has no duplication \n",
        "\n",
        "def func2(S):\n",
        "    s = S.split(' ') \n",
        "    s = list(set(s))\n",
        "    s.sort()\n",
        "    print(' '.join(s))\n",
        "    \n",
        "func2('hello world and practice makes perfect and hello world again')"
      ]
    },
    {
      "cell_type": "markdown",
      "metadata": {
        "colab_type": "text",
        "id": "5RbnRvxODfeM"
      },
      "source": [
        "Exerc. 5\n",
        "---\n",
        "Complete the following code. Use python dictionary to implement a table (a 2d array) that provides the following operations:\n",
        "    - setAt(i, j, v)  set value of entry (i, j) to be v\n",
        "    - readAt(i, j)  return value at entry (i, j); if no such value, return None\n",
        "    - rowHasValuesAt(i)  return the column indices where row i has some values set; if no value in the whole row, return None\n",
        "    - readRow(i) return all the set values at row i\n",
        "    \n",
        "Note the (row and column) indices start from 0 and cannot be negative number.  "
      ]
    },
    {
      "cell_type": "code",
      "execution_count": null,
      "metadata": {
        "colab": {},
        "colab_type": "code",
        "id": "gPvIi6XRDfeN"
      },
      "outputs": [],
      "source": [
        "class Table(dict):\n",
        "        \n",
        "    def setAt(self, i, j, v):\n",
        "        self[(i, j)] = v\n",
        "             \n",
        "    def readAt(self, i, j):\n",
        "        return self.get((i, j), None)\n",
        "    \n",
        "    def rowHasValuesAt(self, i):\n",
        "        L = []\n",
        "        for ii, jj in self.keys():\n",
        "            if ii == i:\n",
        "                L.append(jj)\n",
        "        if L:\n",
        "            return L\n",
        "        else:\n",
        "            return None\n",
        "    \n",
        "    def readRow(self, i):\n",
        "        L = []\n",
        "        for ii, jj in self.keys():\n",
        "            if ii == i:\n",
        "                L.append(self[(ii, jj)])\n",
        "        return L\n",
        "    "
      ]
    },
    {
      "cell_type": "code",
      "execution_count": 4,
      "metadata": {
        "colab": {
          "base_uri": "https://localhost:8080/",
          "height": 120
        },
        "colab_type": "code",
        "id": "skEs6iZIDfeR",
        "outputId": "e4cf84b2-edbb-4986-a0c2-8a8f1103c3c1"
      },
      "outputs": [
        {
          "name": "stdout",
          "output_type": "stream",
          "text": [
            "None\n",
            "7\n",
            "[5, 12]\n",
            "None\n",
            "[7, 21]\n",
            "[]\n"
          ]
        }
      ],
      "source": [
        "t = Table()\n",
        "t.setAt(1, 2, 5)\n",
        "t.setAt(3, 5, 7)\n",
        "t.setAt(3, 12, 21)\n",
        "print(t.readAt(1, 3))\n",
        "print(t.readAt(3, 5))\n",
        "print(t.rowHasValuesAt(3))\n",
        "print(t.rowHasValuesAt(45))\n",
        "print(t.readRow(3))\n",
        "print(t.readRow(45))"
      ]
    }
  ],
  "metadata": {
    "anaconda-cloud": {},
    "colab": {
      "collapsed_sections": [],
      "name": "lab2_solution.ipynb",
      "provenance": []
    },
    "kernelspec": {
      "display_name": "Python [conda root]",
      "language": "python",
      "name": "conda-root-py"
    },
    "language_info": {
      "codemirror_mode": {
        "name": "ipython",
        "version": 3
      },
      "file_extension": ".py",
      "mimetype": "text/x-python",
      "name": "python",
      "nbconvert_exporter": "python",
      "pygments_lexer": "ipython3",
      "version": "3.5.2"
    }
  },
  "nbformat": 4,
  "nbformat_minor": 0
}
