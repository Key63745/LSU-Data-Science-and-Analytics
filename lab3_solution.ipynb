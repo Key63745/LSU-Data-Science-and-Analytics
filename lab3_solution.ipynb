{
  "nbformat": 4,
  "nbformat_minor": 0,
  "metadata": {
    "anaconda-cloud": {},
    "kernelspec": {
      "display_name": "Python [conda root]",
      "language": "python",
      "name": "conda-root-py"
    },
    "language_info": {
      "codemirror_mode": {
        "name": "ipython",
        "version": 3
      },
      "file_extension": ".py",
      "mimetype": "text/x-python",
      "name": "python",
      "nbconvert_exporter": "python",
      "pygments_lexer": "ipython3",
      "version": "3.5.2"
    },
    "colab": {
      "name": "lab3_solution.ipynb",
      "provenance": [],
      "collapsed_sections": []
    }
  },
  "cells": [
    {
      "cell_type": "code",
      "metadata": {
        "id": "qRQWjCctRNwU",
        "colab_type": "code",
        "colab": {}
      },
      "source": [
        "import numpy as np\n",
        "import matplotlib.pyplot as plt"
      ],
      "execution_count": 0,
      "outputs": []
    },
    {
      "cell_type": "markdown",
      "metadata": {
        "id": "01H-FXwiRNwX",
        "colab_type": "text"
      },
      "source": [
        "Exercise 1\n",
        "---\n",
        "<font color='red'> Do not use loop in this exercise</font>\n",
        "- Generate an array of length 9 filled with the cyclic pattern 1, 2, 3.\n",
        "- Create an array of the first 10 odd integers. (use arange)\n",
        "- Create a 10 x 10 arrays of zeros and then \"frame\" it with a border of ones.\n",
        "- Create an 8 x 8 array with a checkerboard pattern of zeros and ones using a slicing approach. (hint step = 2)"
      ]
    },
    {
      "cell_type": "code",
      "metadata": {
        "id": "n0KyGy4qRNwY",
        "colab_type": "code",
        "outputId": "a5aef69e-cca2-4803-e781-7b375ca21845",
        "colab": {
          "base_uri": "https://localhost:8080/",
          "height": 360
        }
      },
      "source": [
        "a = np.array([1, 2, 3]*3)\n",
        "print(a)\n",
        "a = np.arange(1, 20, 2)\n",
        "print(a)\n",
        "a = np.zeros((10, 10))\n",
        "a[[0, 9], :] = 1\n",
        "a[:, 0] = 1\n",
        "a[:, 9] = 1\n",
        "print(a)\n",
        "a = np.zeros((8, 8))\n",
        "a[0::2, 0::2] = 1\n",
        "a[1::2, 1::2] = 1\n",
        "print(a)"
      ],
      "execution_count": 0,
      "outputs": [
        {
          "output_type": "stream",
          "text": [
            "[1 2 3 1 2 3 1 2 3]\n",
            "[ 1  3  5  7  9 11 13 15 17 19]\n",
            "[[1. 1. 1. 1. 1. 1. 1. 1. 1. 1.]\n",
            " [1. 0. 0. 0. 0. 0. 0. 0. 0. 1.]\n",
            " [1. 0. 0. 0. 0. 0. 0. 0. 0. 1.]\n",
            " [1. 0. 0. 0. 0. 0. 0. 0. 0. 1.]\n",
            " [1. 0. 0. 0. 0. 0. 0. 0. 0. 1.]\n",
            " [1. 0. 0. 0. 0. 0. 0. 0. 0. 1.]\n",
            " [1. 0. 0. 0. 0. 0. 0. 0. 0. 1.]\n",
            " [1. 0. 0. 0. 0. 0. 0. 0. 0. 1.]\n",
            " [1. 0. 0. 0. 0. 0. 0. 0. 0. 1.]\n",
            " [1. 1. 1. 1. 1. 1. 1. 1. 1. 1.]]\n",
            "[[1. 0. 1. 0. 1. 0. 1. 0.]\n",
            " [0. 1. 0. 1. 0. 1. 0. 1.]\n",
            " [1. 0. 1. 0. 1. 0. 1. 0.]\n",
            " [0. 1. 0. 1. 0. 1. 0. 1.]\n",
            " [1. 0. 1. 0. 1. 0. 1. 0.]\n",
            " [0. 1. 0. 1. 0. 1. 0. 1.]\n",
            " [1. 0. 1. 0. 1. 0. 1. 0.]\n",
            " [0. 1. 0. 1. 0. 1. 0. 1.]]\n"
          ],
          "name": "stdout"
        }
      ]
    },
    {
      "cell_type": "markdown",
      "metadata": {
        "id": "5lFi-ZuMRNwb",
        "colab_type": "text"
      },
      "source": [
        "Exercise 2\n",
        "---\n",
        "<font color='red'> Do not use loop in this exercise</font>\n",
        "\n",
        "Create a random 3×5 array using the 'np.random.rand' function and compute: \n",
        "- the sum of all the entries, \n",
        "- for each row, the sum of the row \n",
        "- for each column, the sum of the column"
      ]
    },
    {
      "cell_type": "code",
      "metadata": {
        "id": "EcfbOyjhRNwc",
        "colab_type": "code",
        "outputId": "3fb0dce6-8942-41e8-b1ab-15b30409c557",
        "colab": {
          "base_uri": "https://localhost:8080/",
          "height": 121
        }
      },
      "source": [
        "a = np.random.rand(3, 5)\n",
        "s1 = np.sum(a)\n",
        "s2 = np.sum(a, axis=1)\n",
        "s3 = np.sum(a, axis=0)\n",
        "print(a)\n",
        "print(s1)\n",
        "print(s2)\n",
        "print(s3)"
      ],
      "execution_count": 0,
      "outputs": [
        {
          "output_type": "stream",
          "text": [
            "[[0.06057273 0.1991421  0.71637951 0.94853806 0.41922561]\n",
            " [0.62020951 0.57720139 0.59686491 0.50999148 0.60756537]\n",
            " [0.70026142 0.66306057 0.45364596 0.40650336 0.27323294]]\n",
            "7.752394933867677\n",
            "[2.34385801 2.91183267 2.49670425]\n",
            "[1.38104366 1.43940406 1.76689039 1.86503291 1.30002391]\n"
          ],
          "name": "stdout"
        }
      ]
    },
    {
      "cell_type": "markdown",
      "metadata": {
        "id": "1UCqxZzyRNwe",
        "colab_type": "text"
      },
      "source": [
        "Exercise 3\n",
        "---\n",
        "- Repeat Exercise 2 for a 2000x3000 array\n",
        "- Alternatively, use loop to compute the total sum, the row sums and the column sums.\n",
        "\n",
        "You can use the time module to record the running time. (An example is given below.) Compare the time needed to calculate the sums by loop and by numpy functions"
      ]
    },
    {
      "cell_type": "code",
      "metadata": {
        "id": "MwNqDu7-RNwf",
        "colab_type": "code",
        "outputId": "87f39a3c-1334-48f2-f739-2bbd8dbebfd5",
        "colab": {
          "base_uri": "https://localhost:8080/",
          "height": 69
        }
      },
      "source": [
        "a = np.random.rand(2000, 3000)\n",
        "import time\n",
        "start = time.time()\n",
        "s = np.sum(a)\n",
        "end = time.time()\n",
        "s1 = 0\n",
        "for i in range(2000):\n",
        "    for j in range(3000):\n",
        "        s1 += a[i, j]\n",
        "end2 = time.time()\n",
        "print(s, s1)\n",
        "print('using numpy, runing time in sec:', end-start)\n",
        "print('using loop, runing time in sec:', end2-end)"
      ],
      "execution_count": 0,
      "outputs": [
        {
          "output_type": "stream",
          "text": [
            "2999157.678329164 2999157.6783287777\n",
            "using numpy, runing time in sec: 0.005660533905029297\n",
            "using loop, runing time in sec: 1.9937829971313477\n"
          ],
          "name": "stdout"
        }
      ]
    },
    {
      "cell_type": "markdown",
      "metadata": {
        "id": "eGvpaCqYRNwj",
        "colab_type": "text"
      },
      "source": [
        "Exercise 4\n",
        "---\n",
        "<font color='red'> Do not use loop in this exercise</font>\n",
        "- Create a 1d array on the interval [$−π,π$] with 200 data points.\n",
        "- Evaluate cos and sin for the data points in the array (use np.cos, np.sin)\n",
        "- Stack the results into a 2d array with rows being the (cos(x),sin(x)) entries.\n",
        "- Create two 3x5 random arrays (using np.random.rand). Stack them horizontally to obtain an array of 3x10. Also stack them vertically to obtain an array of 6x5"
      ]
    },
    {
      "cell_type": "code",
      "metadata": {
        "id": "PDhCAODfRNwk",
        "colab_type": "code",
        "outputId": "6f4085d9-e0a4-4c28-9f3a-f21a660baee3",
        "colab": {}
      },
      "source": [
        "x = np.linspace(-np.pi, np.pi, 200)\n",
        "y1 = np.cos(x)\n",
        "y2 = np.sin(x)\n",
        "y = np.stack([y1, y2], axis=1)\n",
        "print(y.shape)\n",
        "\n",
        "a = np.random.rand(3, 5)\n",
        "b = np.random.rand(3, 5)\n",
        "h = np.hstack([a, b])\n",
        "v = np.vstack([a, b])\n",
        "print(a)\n",
        "print(b)\n",
        "print(h)\n",
        "print(v)"
      ],
      "execution_count": 0,
      "outputs": [
        {
          "output_type": "stream",
          "text": [
            "(200, 2)\n",
            "[[0.66867271 0.0915924  0.86148855 0.38842581 0.08900754]\n",
            " [0.00773592 0.53329883 0.33285722 0.77991439 0.76675656]\n",
            " [0.14620878 0.60466777 0.1667331  0.51316822 0.83654314]]\n",
            "[[0.5772357  0.23913682 0.92631303 0.38457025 0.1315953 ]\n",
            " [0.91225052 0.36486899 0.55242435 0.12015693 0.57413976]\n",
            " [0.95610948 0.51493611 0.91427782 0.2728773  0.40548195]]\n",
            "[[0.66867271 0.0915924  0.86148855 0.38842581 0.08900754 0.5772357\n",
            "  0.23913682 0.92631303 0.38457025 0.1315953 ]\n",
            " [0.00773592 0.53329883 0.33285722 0.77991439 0.76675656 0.91225052\n",
            "  0.36486899 0.55242435 0.12015693 0.57413976]\n",
            " [0.14620878 0.60466777 0.1667331  0.51316822 0.83654314 0.95610948\n",
            "  0.51493611 0.91427782 0.2728773  0.40548195]]\n",
            "[[0.66867271 0.0915924  0.86148855 0.38842581 0.08900754]\n",
            " [0.00773592 0.53329883 0.33285722 0.77991439 0.76675656]\n",
            " [0.14620878 0.60466777 0.1667331  0.51316822 0.83654314]\n",
            " [0.5772357  0.23913682 0.92631303 0.38457025 0.1315953 ]\n",
            " [0.91225052 0.36486899 0.55242435 0.12015693 0.57413976]\n",
            " [0.95610948 0.51493611 0.91427782 0.2728773  0.40548195]]\n"
          ],
          "name": "stdout"
        }
      ]
    },
    {
      "cell_type": "markdown",
      "metadata": {
        "id": "Vi1XisFzRNwm",
        "colab_type": "text"
      },
      "source": [
        "Exercise 5\n",
        "---\n",
        "<font color='red'> Do not use loop in this exercise</font>\n",
        "\n",
        "Create a 2d array of shape 3x5 filled with the integer one.\n",
        "- Increase the value of each array entry by 3\n",
        "- Add the array [1, 2, 3, 4, 5] to each row of the 2d array.  \n",
        "- Add the array [1, 2, 3] to each column of the 2d array."
      ]
    },
    {
      "cell_type": "code",
      "metadata": {
        "id": "8HsFYTOQRNwn",
        "colab_type": "code",
        "outputId": "48b5e1a2-0434-4f7c-ebb2-045afb518356",
        "colab": {}
      },
      "source": [
        "a = np.ones((3, 5))\n",
        "b = np.array([1, 2, 3, 4, 5])\n",
        "c = np.array([1, 2, 3])\n",
        "print(a)\n",
        "print(a + 3)\n",
        "print(a + b)\n",
        "print(a + c.reshape((3, 1)))"
      ],
      "execution_count": 0,
      "outputs": [
        {
          "output_type": "stream",
          "text": [
            "[[1. 1. 1. 1. 1.]\n",
            " [1. 1. 1. 1. 1.]\n",
            " [1. 1. 1. 1. 1.]]\n",
            "[[2. 2. 2. 2. 2.]\n",
            " [2. 2. 2. 2. 2.]\n",
            " [2. 2. 2. 2. 2.]]\n",
            "[[2. 3. 4. 5. 6.]\n",
            " [2. 3. 4. 5. 6.]\n",
            " [2. 3. 4. 5. 6.]]\n",
            "[[2. 2. 2. 2. 2.]\n",
            " [3. 3. 3. 3. 3.]\n",
            " [4. 4. 4. 4. 4.]]\n"
          ],
          "name": "stdout"
        }
      ]
    },
    {
      "cell_type": "markdown",
      "metadata": {
        "id": "DBCzHNs4RNwp",
        "colab_type": "text"
      },
      "source": [
        "Exercise 6\n",
        "---\n",
        "<font color='red'> Do not use loop in this exercise</font>\n",
        "\n",
        "Create a random 2d array of shape 5x7 using np.random.randn.\n",
        "- calculate the sum of numbers in the array whose value is greater than zero  \n",
        "- calculate the sum of numbers in the array whose value is smaller than -0.05"
      ]
    },
    {
      "cell_type": "code",
      "metadata": {
        "id": "rMX-ySogRNwp",
        "colab_type": "code",
        "outputId": "0efb751f-2060-403a-9b8d-231be9cd81cf",
        "colab": {}
      },
      "source": [
        "a = np.random.randn(5, 7)\n",
        "s1 = np.sum(a[a>0])\n",
        "s2 = np.sum(a[a<-0.05])\n",
        "\n",
        "s3 = np.sum(a*(a>0))\n",
        "s4 = np.sum(a*(a<-0.05))\n",
        "print(s1, s2)\n",
        "print(s3, s4)"
      ],
      "execution_count": 0,
      "outputs": [
        {
          "output_type": "stream",
          "text": [
            "17.275840530835026 -9.49325395816438\n",
            "17.275840530835026 -9.493253958164381\n"
          ],
          "name": "stdout"
        }
      ]
    },
    {
      "cell_type": "markdown",
      "metadata": {
        "id": "URx_QjqLRNws",
        "colab_type": "text"
      },
      "source": [
        "Exercise 7\n",
        "---\n",
        "<font color='red'> Do not use loop in this exercise</font>\n",
        "\n",
        "Create a plot of  $x^2⋅sin(1/x^2)+x$  on the interval [$−π,π$] using 200 points. Mark the position of the points with a triangle. Label the x-axis as 'x' and y-axis as 'Func Value'."
      ]
    },
    {
      "cell_type": "code",
      "metadata": {
        "id": "qY2O34tnRNwt",
        "colab_type": "code",
        "outputId": "62d1f6ab-a8ea-4756-f446-3fd5aa853910",
        "colab": {}
      },
      "source": [
        "x = np.linspace(-np.pi, np.pi, 200)\n",
        "x2 = x**2\n",
        "y = x2*np.sin(1/x2)+x\n",
        "plt.plot(x, y, '^')\n",
        "plt.xlabel('x')\n",
        "plt.ylabel('Func Value')\n",
        "plt.show()"
      ],
      "execution_count": 0,
      "outputs": [
        {
          "output_type": "display_data",
          "data": {
            "image/png": "[encoded data removed]",
            "text/plain": [
              "<matplotlib.figure.Figure at 0x150ffa743c8>"
            ]
          },
          "metadata": {
            "tags": []
          }
        }
      ]
    },
    {
      "cell_type": "code",
      "metadata": {
        "id": "ETZrg6-LRNwv",
        "colab_type": "code",
        "colab": {}
      },
      "source": [
        ""
      ],
      "execution_count": 0,
      "outputs": []
    }
  ]
}